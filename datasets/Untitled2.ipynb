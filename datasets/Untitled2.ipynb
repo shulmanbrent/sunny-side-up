{
 "cells": [
  {
   "cell_type": "code",
   "execution_count": 1,
   "metadata": {
    "collapsed": true
   },
   "outputs": [],
   "source": [
    "import imdb"
   ]
  },
  {
   "cell_type": "code",
   "execution_count": 2,
   "metadata": {
    "collapsed": false
   },
   "outputs": [],
   "source": [
    "data =imdb.load_data()"
   ]
  },
  {
   "cell_type": "code",
   "execution_count": 3,
   "metadata": {
    "collapsed": false
   },
   "outputs": [
    {
     "data": {
      "text/plain": [
       "(\"When the Bourne Identity arrived five years ago I have to confess that I didn't think much of it. At the time I was eleven years old, so perhaps I was too young to really get into the storyline and understand the whole scenario. Two years ago when the Bourne Supremacy arrived I thought it was a better movie than Identity but still didn't think it was as good as I expected it to be judging by the trailers. Over the past two years I had been told numerous times that the Bourne movies were amazing, many a time I had to bite my tongue and not say what I really thought about the movies. Until two months ago I couldn't have given a damn about the Bourne Ultimatum, I really had no intentions of watching it. But then I decided to go back and re-watch the first two before I came to any abrupt decisions. So I went out and bought both the original movies. And what a surprise it was to me when I was gripped by them. Identity I found the superior of the two, but Supremacy isn't far behind. They're both slick, action packed and thrilling pieces of cinema that I have watched numerous times since I bought them. Because of this I was first in line today to see the Bourne Ultimatum. And boy did Bourne Ultimatum not disappoint! <br /><br />Matt Damon was never one of my favourite actors until he appeared in the Bourne movies, I'd seen him in the Talented Mr Ripley, but I never thought much of him in general. However, it appears he was born to play Bourne (pardon the pun). Throughout this series we have seen the character change before our very eyes, in this movie we see Matt Damon at his very best, even better than he was in The Departed and I thought he was one of the best things in The Departed. You really do find yourself caring for the character and hoping that he finds out everything. Matt Damon plays the role with a quiet intensity and you always find his character extremely believable. The supporting cast of the movie were also absolutely outstanding. Joan Allen was one of my favourite things in Bourne Supremacy, here she excels herself. Her character is also very believable and she has some superbly acted moments towards the end of the movie. Julia Stiles turns up again as Nicky and finally we learn a bit about her character. Julia Stiles is a very underrated actress and I think she deserves a lot more roles, well decent roles, than she gets. David Strathairn is a newcomer to this series as Noah Vosen, he's definitely the bad guy of the movie and he really excels. He's definitely the nastiest character we've met, and some of the decisions he makes are truly nasty. Strathairn relishes the role and he too gets some superb scenes in the movie. Special mention must also go to Albert Finney who makes the most of his all too brief screen time, I will not say anything about the character, that's best left as a surprise, but trust me his scenes are some of the highlights of the movie.<br /><br />The Bourne movies have always had a strict focus on the storyline more than the action sequences, this isn't to say the trilogy lacks action sequences, good god no there's loads of them dotted all throughout the movies. But running throughout the movie is a very well written and well acted storyline. This storyline concludes in the best way imaginable in this movie. As I watched Supremacy the night before I saw Ultimatum it was nice because I could notice certain little parts. That very final scene in Supremacy, in New York, a lot more important that I ever imagined at the time. Won't spoil it for people but I recommend checking up on Supremacy before you see Ultimatum. Unfortunately though for a lot of people they will go to see Ultimatum purely because of the action sequences. This is the part where I should condemn such people and say they should see it for the storyline, but I'd be lying if I didn't say that my favourite parts of the Bourne series as a whole are the car chases. The mini car chase in Identity is one of my favourite car chases of all time. Well the action in Ultimatum has to be the best of the Bourne series. In fact the movie kicks off with an action sequence in Moscow. So in the duration of the movie we get numerous punch ups, all very violent and shockingly brutal. A bike chase that is absolutely amazing, many foot chases which are even more amazing, a thrilling car chase that is unforgettable, and oh so much more! But the highlight for me has to be the scene in Waterloo station, won't ruin it but for some reason had me gripped.<br /><br />So any flaws for the movie? In my eyes no, but if you are not a fan of the Bourne series or have not seen the previous two then I wouldn't recommend Ultimatum for you. The movie doesn't try to win over any new fans as it sticks to what the franchise does best and just adds a nice bit more storyline and action sequences on top. The Bourne Ultimatum is undoubtedly the best of the series and the best blockbuster of 2007. As a James Bond fanatic it is a great honour for me to say that Ultimatum is a lot better than a majority of the Bond movies, and trust me it takes a lot for me to say that. While Bourne as a whole might not be a better franchise than the Bond series, it is definitely nearly its equal.\",\n",
       " 'pos')"
      ]
     },
     "execution_count": 3,
     "metadata": {},
     "output_type": "execute_result"
    }
   ],
   "source": [
    "data.next()"
   ]
  },
  {
   "cell_type": "code",
   "execution_count": 4,
   "metadata": {
    "collapsed": true
   },
   "outputs": [],
   "source": [
    "d = imdb.load_data(file_path='asdfasdfasdfasdf')"
   ]
  },
  {
   "cell_type": "code",
   "execution_count": 5,
   "metadata": {
    "collapsed": false
   },
   "outputs": [
    {
     "data": {
      "text/plain": [
       "<generator object load_data at 0x10d9c40f0>"
      ]
     },
     "execution_count": 5,
     "metadata": {},
     "output_type": "execute_result"
    }
   ],
   "source": [
    "d"
   ]
  },
  {
   "cell_type": "code",
   "execution_count": 6,
   "metadata": {
    "collapsed": false
   },
   "outputs": [
    {
     "ename": "IOError",
     "evalue": "[Errno 2] No such file or directory: 'asdfasdfasdfasdf'",
     "output_type": "error",
     "traceback": [
      "\u001b[0;31m---------------------------------------------------------------------------\u001b[0m",
      "\u001b[0;31mIOError\u001b[0m                                   Traceback (most recent call last)",
      "\u001b[0;32m<ipython-input-6-814402345f13>\u001b[0m in \u001b[0;36m<module>\u001b[0;34m()\u001b[0m\n\u001b[0;32m----> 1\u001b[0;31m \u001b[0md\u001b[0m\u001b[0;34m.\u001b[0m\u001b[0mnext\u001b[0m\u001b[0;34m(\u001b[0m\u001b[0;34m)\u001b[0m\u001b[0;34m\u001b[0m\u001b[0m\n\u001b[0m",
      "\u001b[0;32m/Users/bretts/Documents/sunny-side-up/datasets/imdb.py\u001b[0m in \u001b[0;36mload_data\u001b[0;34m(file_path)\u001b[0m\n\u001b[1;32m     27\u001b[0m         \u001b[0mfile_path\u001b[0m \u001b[0;34m=\u001b[0m \u001b[0mget_file\u001b[0m\u001b[0;34m(\u001b[0m\u001b[0;34m\"http://ai.stanford.edu/~amaas/data/sentiment/aclImdb_v1.tar.gz\"\u001b[0m\u001b[0;34m)\u001b[0m\u001b[0;34m\u001b[0m\u001b[0m\n\u001b[1;32m     28\u001b[0m \u001b[0;34m\u001b[0m\u001b[0m\n\u001b[0;32m---> 29\u001b[0;31m     \u001b[0mtar\u001b[0m \u001b[0;34m=\u001b[0m \u001b[0mtarfile\u001b[0m\u001b[0;34m.\u001b[0m\u001b[0mopen\u001b[0m\u001b[0;34m(\u001b[0m\u001b[0mfile_path\u001b[0m\u001b[0;34m,\u001b[0m \u001b[0mmode\u001b[0m\u001b[0;34m=\u001b[0m\u001b[0;34m\"r:gz\"\u001b[0m\u001b[0;34m)\u001b[0m\u001b[0;34m\u001b[0m\u001b[0m\n\u001b[0m\u001b[1;32m     30\u001b[0m     \u001b[0;31m# Specifies positive and negative files\u001b[0m\u001b[0;34m\u001b[0m\u001b[0;34m\u001b[0m\u001b[0m\n\u001b[1;32m     31\u001b[0m     \u001b[0mpos\u001b[0m \u001b[0;34m=\u001b[0m \u001b[0;34m[\u001b[0m\u001b[0;34m(\u001b[0m\u001b[0mm\u001b[0m\u001b[0;34m,\u001b[0m \u001b[0mSentiment\u001b[0m\u001b[0;34m[\u001b[0m\u001b[0;36m4\u001b[0m\u001b[0;34m]\u001b[0m\u001b[0;34m)\u001b[0m \u001b[0;32mfor\u001b[0m \u001b[0mm\u001b[0m \u001b[0;32min\u001b[0m \u001b[0mtar\u001b[0m\u001b[0;34m.\u001b[0m\u001b[0mgetmembers\u001b[0m\u001b[0;34m(\u001b[0m\u001b[0;34m)\u001b[0m \u001b[0;32mif\u001b[0m \u001b[0;34mr'pos/'\u001b[0m \u001b[0;32min\u001b[0m \u001b[0mm\u001b[0m\u001b[0;34m.\u001b[0m\u001b[0mname\u001b[0m\u001b[0;34m]\u001b[0m\u001b[0;34m\u001b[0m\u001b[0m\n",
      "\u001b[0;32m/System/Library/Frameworks/Python.framework/Versions/2.7/lib/python2.7/tarfile.pyc\u001b[0m in \u001b[0;36mopen\u001b[0;34m(cls, name, mode, fileobj, bufsize, **kwargs)\u001b[0m\n\u001b[1;32m   1676\u001b[0m             \u001b[0;32melse\u001b[0m\u001b[0;34m:\u001b[0m\u001b[0;34m\u001b[0m\u001b[0m\n\u001b[1;32m   1677\u001b[0m                 \u001b[0;32mraise\u001b[0m \u001b[0mCompressionError\u001b[0m\u001b[0;34m(\u001b[0m\u001b[0;34m\"unknown compression type %r\"\u001b[0m \u001b[0;34m%\u001b[0m \u001b[0mcomptype\u001b[0m\u001b[0;34m)\u001b[0m\u001b[0;34m\u001b[0m\u001b[0m\n\u001b[0;32m-> 1678\u001b[0;31m             \u001b[0;32mreturn\u001b[0m \u001b[0mfunc\u001b[0m\u001b[0;34m(\u001b[0m\u001b[0mname\u001b[0m\u001b[0;34m,\u001b[0m \u001b[0mfilemode\u001b[0m\u001b[0;34m,\u001b[0m \u001b[0mfileobj\u001b[0m\u001b[0;34m,\u001b[0m \u001b[0;34m**\u001b[0m\u001b[0mkwargs\u001b[0m\u001b[0;34m)\u001b[0m\u001b[0;34m\u001b[0m\u001b[0m\n\u001b[0m\u001b[1;32m   1679\u001b[0m \u001b[0;34m\u001b[0m\u001b[0m\n\u001b[1;32m   1680\u001b[0m         \u001b[0;32melif\u001b[0m \u001b[0;34m\"|\"\u001b[0m \u001b[0;32min\u001b[0m \u001b[0mmode\u001b[0m\u001b[0;34m:\u001b[0m\u001b[0;34m\u001b[0m\u001b[0m\n",
      "\u001b[0;32m/System/Library/Frameworks/Python.framework/Versions/2.7/lib/python2.7/tarfile.pyc\u001b[0m in \u001b[0;36mgzopen\u001b[0;34m(cls, name, mode, fileobj, compresslevel, **kwargs)\u001b[0m\n\u001b[1;32m   1720\u001b[0m \u001b[0;34m\u001b[0m\u001b[0m\n\u001b[1;32m   1721\u001b[0m         \u001b[0;32mif\u001b[0m \u001b[0mfileobj\u001b[0m \u001b[0;32mis\u001b[0m \u001b[0mNone\u001b[0m\u001b[0;34m:\u001b[0m\u001b[0;34m\u001b[0m\u001b[0m\n\u001b[0;32m-> 1722\u001b[0;31m             \u001b[0mfileobj\u001b[0m \u001b[0;34m=\u001b[0m \u001b[0mbltn_open\u001b[0m\u001b[0;34m(\u001b[0m\u001b[0mname\u001b[0m\u001b[0;34m,\u001b[0m \u001b[0mmode\u001b[0m \u001b[0;34m+\u001b[0m \u001b[0;34m\"b\"\u001b[0m\u001b[0;34m)\u001b[0m\u001b[0;34m\u001b[0m\u001b[0m\n\u001b[0m\u001b[1;32m   1723\u001b[0m \u001b[0;34m\u001b[0m\u001b[0m\n\u001b[1;32m   1724\u001b[0m         \u001b[0;32mtry\u001b[0m\u001b[0;34m:\u001b[0m\u001b[0;34m\u001b[0m\u001b[0m\n",
      "\u001b[0;31mIOError\u001b[0m: [Errno 2] No such file or directory: 'asdfasdfasdfasdf'"
     ]
    }
   ],
   "source": [
    "d.next()"
   ]
  },
  {
   "cell_type": "code",
   "execution_count": null,
   "metadata": {
    "collapsed": true
   },
   "outputs": [],
   "source": []
  }
 ],
 "metadata": {
  "kernelspec": {
   "display_name": "Python 2",
   "language": "python",
   "name": "python2"
  },
  "language_info": {
   "codemirror_mode": {
    "name": "ipython",
    "version": 2
   },
   "file_extension": ".py",
   "mimetype": "text/x-python",
   "name": "python",
   "nbconvert_exporter": "python",
   "pygments_lexer": "ipython2",
   "version": "2.7.6"
  }
 },
 "nbformat": 4,
 "nbformat_minor": 0
}
