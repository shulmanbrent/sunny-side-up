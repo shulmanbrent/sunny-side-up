{
 "cells": [
  {
   "cell_type": "code",
   "execution_count": null,
   "metadata": {
    "collapsed": true
   },
   "outputs": [],
   "source": [
    "from gensim.models import Doc2Vec\n",
    "model = Doc2Vec.load('./Baseline/Word2Vec/models/new_model.d2v')"
   ]
  },
  {
   "cell_type": "code",
   "execution_count": 2,
   "metadata": {
    "collapsed": false
   },
   "outputs": [
    {
     "data": {
      "text/plain": [
       "array([ 0.00151995, -0.3055045 ,  0.12068909,  0.42263713,  0.03364018,\n",
       "        0.08377244,  0.16011538,  0.15851548,  0.36027524,  0.19150595,\n",
       "        0.0887264 ,  0.01032708, -0.26694068,  0.16462681,  0.08873199,\n",
       "       -0.03594446, -0.09668359, -0.00479825,  0.23110072, -0.2036027 ,\n",
       "        0.08744317,  0.06438494, -0.09958536,  0.22029074, -0.26104191,\n",
       "        0.20392089,  0.38096762, -0.2708222 , -0.11725277,  0.10837819,\n",
       "       -0.25055909,  0.51788437,  0.17127438, -0.02273403,  0.24309079,\n",
       "        0.22262737, -0.51898426, -0.12666933,  0.10276494,  0.10022433,\n",
       "       -0.01066278, -0.1312273 ,  0.05660557, -0.04170689, -0.1942825 ,\n",
       "        0.04003177, -0.01618442,  0.07648756, -0.07395286, -0.04978331,\n",
       "        0.18725753, -0.34033078,  0.18831201, -0.36573261,  0.13000873,\n",
       "       -0.50869191, -0.12675533, -0.08712371, -0.43789947, -0.07278509,\n",
       "        0.18486087,  0.07127153,  0.29427138,  0.01496489,  0.18526205,\n",
       "        0.10756198, -0.07423563,  0.06010666,  0.0982118 ,  0.12920795,\n",
       "        0.08334166, -0.11127052,  0.1366898 , -0.27782071,  0.27539724,\n",
       "        0.05898546,  0.33338803,  0.04884099, -0.16947767, -0.16418964,\n",
       "        0.1605332 , -0.20768422,  0.05957972,  0.10089966,  0.00460241,\n",
       "        0.12353857,  0.18249059,  0.06639108,  0.09736123,  0.21321715,\n",
       "        0.14951645, -0.11656528,  0.0857958 , -0.2643674 , -0.01940715,\n",
       "        0.08521685,  0.03133079,  0.06755953,  0.11111241, -0.31176186], dtype=float32)"
      ]
     },
     "execution_count": 2,
     "metadata": {},
     "output_type": "execute_result"
    }
   ],
   "source": [
    "model['pos_1']"
   ]
  },
  {
   "cell_type": "code",
   "execution_count": 6,
   "metadata": {
    "collapsed": false
   },
   "outputs": [
    {
     "data": {
      "text/plain": [
       "100"
      ]
     },
     "execution_count": 6,
     "metadata": {},
     "output_type": "execute_result"
    }
   ],
   "source": [
    "len(model.syn0[0])"
   ]
  },
  {
   "cell_type": "code",
   "execution_count": null,
   "metadata": {
    "collapsed": true
   },
   "outputs": [],
   "source": []
  }
 ],
 "metadata": {
  "kernelspec": {
   "display_name": "Python 2",
   "language": "python",
   "name": "python2"
  },
  "language_info": {
   "codemirror_mode": {
    "name": "ipython",
    "version": 2
   },
   "file_extension": ".py",
   "mimetype": "text/x-python",
   "name": "python",
   "nbconvert_exporter": "python",
   "pygments_lexer": "ipython2",
   "version": "2.7.6"
  }
 },
 "nbformat": 4,
 "nbformat_minor": 0
}
