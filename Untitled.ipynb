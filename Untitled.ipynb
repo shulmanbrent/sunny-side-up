{
 "cells": [
  {
   "cell_type": "code",
   "execution_count": 2,
   "metadata": {
    "collapsed": false
   },
   "outputs": [],
   "source": [
    "from datasets import sentiment140"
   ]
  },
  {
   "cell_type": "code",
   "execution_count": 3,
   "metadata": {
    "collapsed": false
   },
   "outputs": [],
   "source": [
    "data = sentiment140.load_data()"
   ]
  },
  {
   "cell_type": "code",
   "execution_count": 4,
   "metadata": {
    "collapsed": false
   },
   "outputs": [
    {
     "data": {
      "text/plain": [
       "(u\"@switchfoot http://twitpic.com/2y1zl - Awww, that's a bummer.  You shoulda got David Carr of Third Day to do it. ;D\",\n",
       " 'neg')"
      ]
     },
     "execution_count": 4,
     "metadata": {},
     "output_type": "execute_result"
    }
   ],
   "source": [
    "data[0]"
   ]
  },
  {
   "cell_type": "code",
   "execution_count": 5,
   "metadata": {
    "collapsed": false
   },
   "outputs": [
    {
     "data": {
      "text/plain": [
       "u\"@switchfoot http://twitpic.com/2y1zl - Awww, that's a bummer.  You shoulda got David Carr of Third Day to do it. ;D\""
      ]
     },
     "execution_count": 5,
     "metadata": {},
     "output_type": "execute_result"
    }
   ],
   "source": [
    "data[0][0]"
   ]
  },
  {
   "cell_type": "code",
   "execution_count": 7,
   "metadata": {
    "collapsed": false
   },
   "outputs": [
    {
     "data": {
      "text/plain": [
       "[u'@',\n",
       " u's',\n",
       " u'w',\n",
       " u'i',\n",
       " u't',\n",
       " u'c',\n",
       " u'h',\n",
       " u'f',\n",
       " u'o',\n",
       " u'o',\n",
       " u't',\n",
       " u' ',\n",
       " u'h',\n",
       " u't',\n",
       " u't',\n",
       " u'p',\n",
       " u':',\n",
       " u'/',\n",
       " u'/',\n",
       " u't',\n",
       " u'w',\n",
       " u'i',\n",
       " u't',\n",
       " u'p',\n",
       " u'i',\n",
       " u'c',\n",
       " u'.',\n",
       " u'c',\n",
       " u'o',\n",
       " u'm',\n",
       " u'/',\n",
       " u'2',\n",
       " u'y',\n",
       " u'1',\n",
       " u'z',\n",
       " u'l',\n",
       " u' ',\n",
       " u'-',\n",
       " u' ',\n",
       " u'A',\n",
       " u'w',\n",
       " u'w',\n",
       " u'w',\n",
       " u',',\n",
       " u' ',\n",
       " u't',\n",
       " u'h',\n",
       " u'a',\n",
       " u't',\n",
       " u\"'\",\n",
       " u's',\n",
       " u' ',\n",
       " u'a',\n",
       " u' ',\n",
       " u'b',\n",
       " u'u',\n",
       " u'm',\n",
       " u'm',\n",
       " u'e',\n",
       " u'r',\n",
       " u'.',\n",
       " u' ',\n",
       " u' ',\n",
       " u'Y',\n",
       " u'o',\n",
       " u'u',\n",
       " u' ',\n",
       " u's',\n",
       " u'h',\n",
       " u'o',\n",
       " u'u',\n",
       " u'l',\n",
       " u'd',\n",
       " u'a',\n",
       " u' ',\n",
       " u'g',\n",
       " u'o',\n",
       " u't',\n",
       " u' ',\n",
       " u'D',\n",
       " u'a',\n",
       " u'v',\n",
       " u'i',\n",
       " u'd',\n",
       " u' ',\n",
       " u'C',\n",
       " u'a',\n",
       " u'r',\n",
       " u'r',\n",
       " u' ',\n",
       " u'o',\n",
       " u'f',\n",
       " u' ',\n",
       " u'T',\n",
       " u'h',\n",
       " u'i',\n",
       " u'r',\n",
       " u'd',\n",
       " u' ',\n",
       " u'D',\n",
       " u'a',\n",
       " u'y',\n",
       " u' ',\n",
       " u't',\n",
       " u'o',\n",
       " u' ',\n",
       " u'd',\n",
       " u'o',\n",
       " u' ',\n",
       " u'i',\n",
       " u't',\n",
       " u'.',\n",
       " u' ',\n",
       " u';',\n",
       " u'D']"
      ]
     },
     "execution_count": 7,
     "metadata": {},
     "output_type": "execute_result"
    }
   ],
   "source": [
    "list(data[0][0])"
   ]
  },
  {
   "cell_type": "code",
   "execution_count": 8,
   "metadata": {
    "collapsed": true
   },
   "outputs": [],
   "source": [
    "data = [list(d[0]) for d in data]"
   ]
  },
  {
   "cell_type": "code",
   "execution_count": 9,
   "metadata": {
    "collapsed": true
   },
   "outputs": [],
   "source": [
    "from gensim.models import Word2Vec"
   ]
  },
  {
   "cell_type": "code",
   "execution_count": 10,
   "metadata": {
    "collapsed": false
   },
   "outputs": [
    {
     "data": {
      "text/plain": [
       "[u'@',\n",
       " u's',\n",
       " u'w',\n",
       " u'i',\n",
       " u't',\n",
       " u'c',\n",
       " u'h',\n",
       " u'f',\n",
       " u'o',\n",
       " u'o',\n",
       " u't',\n",
       " u' ',\n",
       " u'h',\n",
       " u't',\n",
       " u't',\n",
       " u'p',\n",
       " u':',\n",
       " u'/',\n",
       " u'/',\n",
       " u't',\n",
       " u'w',\n",
       " u'i',\n",
       " u't',\n",
       " u'p',\n",
       " u'i',\n",
       " u'c',\n",
       " u'.',\n",
       " u'c',\n",
       " u'o',\n",
       " u'm',\n",
       " u'/',\n",
       " u'2',\n",
       " u'y',\n",
       " u'1',\n",
       " u'z',\n",
       " u'l',\n",
       " u' ',\n",
       " u'-',\n",
       " u' ',\n",
       " u'A',\n",
       " u'w',\n",
       " u'w',\n",
       " u'w',\n",
       " u',',\n",
       " u' ',\n",
       " u't',\n",
       " u'h',\n",
       " u'a',\n",
       " u't',\n",
       " u\"'\",\n",
       " u's',\n",
       " u' ',\n",
       " u'a',\n",
       " u' ',\n",
       " u'b',\n",
       " u'u',\n",
       " u'm',\n",
       " u'm',\n",
       " u'e',\n",
       " u'r',\n",
       " u'.',\n",
       " u' ',\n",
       " u' ',\n",
       " u'Y',\n",
       " u'o',\n",
       " u'u',\n",
       " u' ',\n",
       " u's',\n",
       " u'h',\n",
       " u'o',\n",
       " u'u',\n",
       " u'l',\n",
       " u'd',\n",
       " u'a',\n",
       " u' ',\n",
       " u'g',\n",
       " u'o',\n",
       " u't',\n",
       " u' ',\n",
       " u'D',\n",
       " u'a',\n",
       " u'v',\n",
       " u'i',\n",
       " u'd',\n",
       " u' ',\n",
       " u'C',\n",
       " u'a',\n",
       " u'r',\n",
       " u'r',\n",
       " u' ',\n",
       " u'o',\n",
       " u'f',\n",
       " u' ',\n",
       " u'T',\n",
       " u'h',\n",
       " u'i',\n",
       " u'r',\n",
       " u'd',\n",
       " u' ',\n",
       " u'D',\n",
       " u'a',\n",
       " u'y',\n",
       " u' ',\n",
       " u't',\n",
       " u'o',\n",
       " u' ',\n",
       " u'd',\n",
       " u'o',\n",
       " u' ',\n",
       " u'i',\n",
       " u't',\n",
       " u'.',\n",
       " u' ',\n",
       " u';',\n",
       " u'D']"
      ]
     },
     "execution_count": 10,
     "metadata": {},
     "output_type": "execute_result"
    }
   ],
   "source": [
    "data[0]"
   ]
  },
  {
   "cell_type": "code",
   "execution_count": null,
   "metadata": {
    "collapsed": true
   },
   "outputs": [],
   "source": [
    "model = Word2Vec(data, min_count=1)"
   ]
  },
  {
   "cell_type": "code",
   "execution_count": null,
   "metadata": {
    "collapsed": true
   },
   "outputs": [],
   "source": []
  }
 ],
 "metadata": {
  "kernelspec": {
   "display_name": "Python 2",
   "language": "python",
   "name": "python2"
  },
  "language_info": {
   "codemirror_mode": {
    "name": "ipython",
    "version": 2
   },
   "file_extension": ".py",
   "mimetype": "text/x-python",
   "name": "python",
   "nbconvert_exporter": "python",
   "pygments_lexer": "ipython2",
   "version": "2.7.6"
  }
 },
 "nbformat": 4,
 "nbformat_minor": 0
}
