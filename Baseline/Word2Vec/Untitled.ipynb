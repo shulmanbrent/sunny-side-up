{
 "cells": [
  {
   "cell_type": "code",
   "execution_count": 1,
   "metadata": {
    "collapsed": true
   },
   "outputs": [],
   "source": [
    "from gensim.models import Doc2Vec"
   ]
  },
  {
   "cell_type": "code",
   "execution_count": 2,
   "metadata": {
    "collapsed": false
   },
   "outputs": [
    {
     "name": "stdout",
     "output_type": "stream",
     "text": [
      "Help on method load_word2vec_format in module gensim.models.word2vec:\n",
      "\n",
      "load_word2vec_format(cls, fname, fvocab=None, binary=False, norm_only=True) method of __builtin__.type instance\n",
      "    Load the input-hidden weight matrix from the original C word2vec-tool format.\n",
      "    \n",
      "    Note that the information stored in the file is incomplete (the binary tree is missing),\n",
      "    so while you can query for word similarity etc., you cannot continue training\n",
      "    with a model loaded this way.\n",
      "    \n",
      "    `binary` is a boolean indicating whether the data is in binary word2vec format.\n",
      "    `norm_only` is a boolean indicating whether to only store normalised word2vec vectors in memory.\n",
      "    Word counts are read from `fvocab` filename, if set (this is the file generated\n",
      "    by `-save-vocab` flag of the original C tool).\n",
      "\n",
      "Help on method load in module gensim.utils:\n",
      "\n",
      "load(cls, fname, mmap=None) method of __builtin__.type instance\n",
      "    Load a previously saved object from file (also see `save`).\n",
      "    \n",
      "    If the object was saved with large arrays stored separately, you can load\n",
      "    these arrays via mmap (shared memory) using `mmap='r'`. Default: don't use\n",
      "    mmap, load large arrays as normal objects.\n",
      "    \n",
      "    If the file being loaded is compressed (either '.gz' or '.bz2'), then\n",
      "    `mmap=None` must be set.  Load will raise an `IOError` if this condition\n",
      "    is encountered.\n",
      "\n"
     ]
    }
   ],
   "source": [
    "help(Doc2Vec.load_word2vec_format)\n",
    "help(Doc2Vec.load)"
   ]
  },
  {
   "cell_type": "code",
   "execution_count": 3,
   "metadata": {
    "collapsed": true
   },
   "outputs": [],
   "source": [
    "model = Doc2Vec.load('./models/model_300.d2v')"
   ]
  },
  {
   "cell_type": "code",
   "execution_count": 4,
   "metadata": {
    "collapsed": false
   },
   "outputs": [
    {
     "name": "stdout",
     "output_type": "stream",
     "text": [
      "Help on method accuracy in module gensim.models.word2vec:\n",
      "\n",
      "accuracy(self, questions, restrict_vocab=30000, most_similar=<function most_similar>) method of gensim.models.doc2vec.Doc2Vec instance\n",
      "    Compute accuracy of the model. `questions` is a filename where lines are\n",
      "    4-tuples of words, split into sections by \": SECTION NAME\" lines.\n",
      "    See https://code.google.com/p/word2vec/source/browse/trunk/questions-words.txt for an example.\n",
      "    \n",
      "    The accuracy is reported (=printed to log and returned as a list) for each\n",
      "    section separately, plus there's one aggregate summary at the end.\n",
      "    \n",
      "    Use `restrict_vocab` to ignore all questions containing a word whose frequency\n",
      "    is not in the top-N most frequent words (default top 30,000).\n",
      "    \n",
      "    This method corresponds to the `compute-accuracy` script of the original C word2vec.\n",
      "\n"
     ]
    }
   ],
   "source": [
    "help(model.accuracy)"
   ]
  },
  {
   "cell_type": "code",
   "execution_count": 5,
   "metadata": {
    "collapsed": false
   },
   "outputs": [],
   "source": [
    "import sys\n",
    "sys.path.append(\"../..\")\n",
    "from datasets.data_utils import get_file"
   ]
  },
  {
   "cell_type": "code",
   "execution_count": 6,
   "metadata": {
    "collapsed": true
   },
   "outputs": [],
   "source": [
    "q_word_path = get_file(\"https://word2vec.googlecode.com/svn/trunk/questions-words.txt\")"
   ]
  },
  {
   "cell_type": "code",
   "execution_count": 7,
   "metadata": {
    "collapsed": false
   },
   "outputs": [
    {
     "data": {
      "text/plain": [
       "'/Users/bretts/Documents/sunny-side-up/datasets/.downloads/questions-words.txt'"
      ]
     },
     "execution_count": 7,
     "metadata": {},
     "output_type": "execute_result"
    }
   ],
   "source": [
    "q_word_path"
   ]
  },
  {
   "cell_type": "code",
   "execution_count": null,
   "metadata": {
    "collapsed": false
   },
   "outputs": [],
   "source": [
    "acc = model.accuracy(q_word_path)"
   ]
  },
  {
   "cell_type": "code",
   "execution_count": null,
   "metadata": {
    "collapsed": true
   },
   "outputs": [],
   "source": []
  }
 ],
 "metadata": {
  "kernelspec": {
   "display_name": "Python 2",
   "language": "python",
   "name": "python2"
  },
  "language_info": {
   "codemirror_mode": {
    "name": "ipython",
    "version": 2
   },
   "file_extension": ".py",
   "mimetype": "text/x-python",
   "name": "python",
   "nbconvert_exporter": "python",
   "pygments_lexer": "ipython2",
   "version": "2.7.6"
  }
 },
 "nbformat": 4,
 "nbformat_minor": 0
}
