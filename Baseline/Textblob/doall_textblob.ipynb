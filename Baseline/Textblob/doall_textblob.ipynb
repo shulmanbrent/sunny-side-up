{
 "cells": [
  {
   "cell_type": "code",
   "execution_count": 2,
   "metadata": {
    "collapsed": false
   },
   "outputs": [],
   "source": [
    "import os, sys\n",
    "sys.path.insert(0, '../Textblob')\n",
    "sys.path.insert(0, '../..')\n",
    "from datasets import sentiment140\n",
    "from textblob import TextBlob\n",
    "from textblob_evaluator import textblob_evaluator"
   ]
  },
  {
   "cell_type": "code",
   "execution_count": 4,
   "metadata": {
    "collapsed": false
   },
   "outputs": [],
   "source": [
    "tweet_list = sentiment140.load_data()"
   ]
  },
  {
   "cell_type": "code",
   "execution_count": 5,
   "metadata": {
    "collapsed": true
   },
   "outputs": [],
   "source": [
    "tweet_list = [(TextBlob(tweet), sent) for tweet, sent in tweet_list]"
   ]
  },
  {
   "cell_type": "code",
   "execution_count": 6,
   "metadata": {
    "collapsed": false
   },
   "outputs": [
    {
     "name": "stdout",
     "output_type": "stream",
     "text": [
      "Classifying test data...\n",
      "Test on 1600000 instances\n",
      "--------------------------------\n",
      "accuracy: 0.622605625\n",
      "pos precision: 0.640524018218\n",
      "pos recall: 0.55885\n",
      "neg precision: 0.608740045831\n",
      "neg recall: 0.68636125\n"
     ]
    }
   ],
   "source": [
    "textblob_evaluator(tweet_list)"
   ]
  }
 ],
 "metadata": {
  "kernelspec": {
   "display_name": "Python 2",
   "language": "python",
   "name": "python2"
  },
  "language_info": {
   "codemirror_mode": {
    "name": "ipython",
    "version": 2
   },
   "file_extension": ".py",
   "mimetype": "text/x-python",
   "name": "python",
   "nbconvert_exporter": "python",
   "pygments_lexer": "ipython2",
   "version": "2.7.6"
  }
 },
 "nbformat": 4,
 "nbformat_minor": 0
}
